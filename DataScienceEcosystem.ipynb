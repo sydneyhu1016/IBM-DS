{
 "cells": [
  {
   "cell_type": "markdown",
   "id": "8aa21745-7950-4630-8ad1-8801187352cb",
   "metadata": {},
   "source": [
    "# Data Science Tools and Ecosystem"
   ]
  },
  {
   "cell_type": "markdown",
   "id": "b1135913-63f1-4b35-8a8b-a0d2e963e5f5",
   "metadata": {},
   "source": [
    "In this notebook, Data Science Tools and Ecosystem are summarized."
   ]
  },
  {
   "cell_type": "markdown",
   "id": "7aef7caf-2d91-4bf2-850e-e14b01cb1840",
   "metadata": {},
   "source": [
    "Some of the popular languages that Data Scientists use are:\n",
    "    1.Python  \n",
    "    2.R  \n",
    "    3.SQL  \n",
    "    4.Java  \n",
    "    5.Julia  "
   ]
  },
  {
   "cell_type": "markdown",
   "id": "409ae127-57f0-40fd-b50a-fbc45cae4d3d",
   "metadata": {},
   "source": [
    "Some of the commonly used libraries used by Data Scientists include:  \n",
    "    1. Tensorflow   \n",
    "    2. Pytorch  \n",
    "    3. Pandas  \n",
    "    3. Numpy  "
   ]
  },
  {
   "cell_type": "markdown",
   "id": "a9bd1e28-62f9-4d7d-9839-b13d11898a23",
   "metadata": {},
   "source": [
    "|Data Science Tools|\n",
    "--------------------\n",
    "|Jupyter Notebook|\n",
    "|RStudio|\n",
    "|VSCode|\n"
   ]
  },
  {
   "cell_type": "markdown",
   "id": "276def44-22ce-4f15-b668-cebf20b121e9",
   "metadata": {},
   "source": [
    "### Below are a few examples of evaluating arithmetic expressions in Python"
   ]
  },
  {
   "cell_type": "code",
   "execution_count": 1,
   "id": "68d36283-2c9d-4297-8e19-787572b83698",
   "metadata": {
    "tags": []
   },
   "outputs": [
    {
     "data": {
      "text/plain": [
       "17"
      ]
     },
     "execution_count": 1,
     "metadata": {},
     "output_type": "execute_result"
    }
   ],
   "source": [
    "#This is a simple arithmetic expression to multiply and then add integers\n",
    "(3*4)+5"
   ]
  },
  {
   "cell_type": "code",
   "execution_count": 11,
   "id": "47739438-78e4-40f6-98e2-ff9e557aab7b",
   "metadata": {
    "tags": []
   },
   "outputs": [
    {
     "name": "stdout",
     "output_type": "stream",
     "text": [
      "3.3333333333333335\n"
     ]
    }
   ],
   "source": [
    "#This will convert 200 mintues to hours by diving by 60\n",
    "h = min/60\n",
    "min = 200\n",
    "\n",
    "print(h)"
   ]
  },
  {
   "cell_type": "markdown",
   "id": "a021ac1d-2126-45cd-ae52-f1c5803b1a51",
   "metadata": {},
   "source": [
    "**Objectives:**\n",
    "- List popular languages for Data Science\n",
    "- List popular Li for Data Science\n",
    "- List popular Tools for Data Science"
   ]
  },
  {
   "cell_type": "code",
   "execution_count": null,
   "id": "c1f8e9d5-c53e-457e-aefe-18c7eee63ac2",
   "metadata": {},
   "outputs": [],
   "source": []
  }
 ],
 "metadata": {
  "kernelspec": {
   "display_name": "Python",
   "language": "python",
   "name": "conda-env-python-py"
  },
  "language_info": {
   "codemirror_mode": {
    "name": "ipython",
    "version": 3
   },
   "file_extension": ".py",
   "mimetype": "text/x-python",
   "name": "python",
   "nbconvert_exporter": "python",
   "pygments_lexer": "ipython3",
   "version": "3.7.12"
  }
 },
 "nbformat": 4,
 "nbformat_minor": 5
}
